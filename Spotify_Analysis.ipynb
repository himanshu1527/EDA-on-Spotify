{
 "cells": [
  {
   "cell_type": "markdown",
   "id": "c3adcbfa-0f81-4283-8795-590924e3dc5b",
   "metadata": {},
   "source": [
    "SPOTIFY TRACKS EDA"
   ]
  },
  {
   "cell_type": "code",
   "execution_count": null,
   "id": "3153f2a4-069f-42ea-bd19-0cfcdcab6831",
   "metadata": {},
   "outputs": [],
   "source": [
    "import pandas as pd\n",
    "import numpy as np\n",
    "import matplotlib.pyplot as plt\n",
    "import seaborn as sns"
   ]
  },
  {
   "cell_type": "code",
   "execution_count": null,
   "id": "18ef8309-3a90-44ed-99d4-0a4ca53fbb0e",
   "metadata": {},
   "outputs": [],
   "source": [
    "df_tracks = pd.read_csv(\"tracks.csv\")\n",
    "df_tracks.head()"
   ]
  },
  {
   "cell_type": "code",
   "execution_count": null,
   "id": "3bd42d3b-3e55-4f8f-a285-79573dc34828",
   "metadata": {},
   "outputs": [],
   "source": [
    "pd.isnull(df_tracks).sum()"
   ]
  },
  {
   "cell_type": "code",
   "execution_count": null,
   "id": "41391956",
   "metadata": {},
   "outputs": [],
   "source": [
    "df_tracks.info()"
   ]
  },
  {
   "cell_type": "code",
   "execution_count": null,
   "id": "a8ad3dc6-2397-47ce-aa01-e2940a601d60",
   "metadata": {},
   "outputs": [],
   "source": [
    "sorted_df = df_tracks.sort_values('duration_ms',ascending=True).head(10)\n",
    "sorted_df"
   ]
  },
  {
   "cell_type": "code",
   "execution_count": null,
   "id": "9c3791f2-3323-4553-aaca-77d126438b0c",
   "metadata": {},
   "outputs": [],
   "source": [
    "df_tracks.describe().transpose()"
   ]
  },
  {
   "cell_type": "code",
   "execution_count": null,
   "id": "a59c611f-4801-427f-8d3d-449ce62bf6c3",
   "metadata": {},
   "outputs": [],
   "source": [
    "most_popular = df_tracks.query('duration_ms>1000000', inplace= False).sort_values('duration_ms',ascending=False )\n",
    "most_popular[:10]"
   ]
  },
  {
   "cell_type": "code",
   "execution_count": null,
   "id": "3e5a6574-3dd7-4e0d-84ba-5738c233ff4d",
   "metadata": {},
   "outputs": [],
   "source": [
    "df_tracks.set_index(\"release_date\",inplace=True)\n",
    "df_tracks.index=pd.to_datetime(df_tracks.index)\n",
    "df_tracks.head()"
   ]
  },
  {
   "cell_type": "code",
   "execution_count": null,
   "id": "6b230a20-a852-4d0c-b549-0bdd525b9d8a",
   "metadata": {},
   "outputs": [],
   "source": [
    "df_tracks[['artists']].iloc[20]"
   ]
  },
  {
   "cell_type": "code",
   "execution_count": null,
   "id": "f7dba89c-0aec-4045-92f8-2bedcb399725",
   "metadata": {},
   "outputs": [],
   "source": [
    "df_tracks['duration_ms']=df_tracks['duration_ms'].apply(lambda x : round(x/1000))\n",
    "df_tracks.drop('duration_ms',inplace=True, axis=1)\n"
   ]
  },
  {
   "cell_type": "code",
   "execution_count": null,
   "id": "49306eb7-2f08-4326-9030-66d53efea9b3",
   "metadata": {},
   "outputs": [],
   "source": [
    "corr_df = df_tracks.drop(['key','mode','explicit'], axis=1).corr(method='pearson')\n",
    "plt.figure(figsize=(14,6))\n",
    "heatmap=sns.heatmap(corr_df, annot=True, fmt='.1g', vmin=-1, vmax=1, center=0, cmap='inferno', linewidths=1, linecolor= \"Black\")\n",
    "heatmap.set_title(\"Correlation heatmap between variables\")\n",
    "heatmap.set_xticklabels(heatmap.get_xticklabels(), rotation=90)"
   ]
  },
  {
   "cell_type": "code",
   "execution_count": null,
   "id": "8b8303c0-6f7d-42d7-b44f-d6adf1a372ae",
   "metadata": {},
   "outputs": [],
   "source": [
    "sample_df = df_tracks.sample(int(0.004*len(df_tracks)))"
   ]
  },
  {
   "cell_type": "code",
   "execution_count": null,
   "id": "a4b2bf9b-5354-4a45-aef0-fba0598a626d",
   "metadata": {},
   "outputs": [],
   "source": [
    "print(len(sample_df))"
   ]
  },
  {
   "cell_type": "code",
   "execution_count": null,
   "id": "06b45dbc-6958-4cfb-ae08-10c7f4823169",
   "metadata": {},
   "outputs": [],
   "source": [
    "plt.figure(figsize=(10,6))\n",
    "sns.regplot(data = sample_df, y= \"loudness, x= \"energy\", color= \"c\").set(title= 'Loudness vs Energy Correlation')\n"
   ]
  },
  {
   "cell_type": "code",
   "execution_count": null,
   "id": "095bf6e2-8bb6-417b-93d7-e3bebb587169",
   "metadata": {},
   "outputs": [],
   "source": [
    "df_tracks['dates']= df_tracks.index.get_level_values('release_date')\n",
    "df_tracks.dates= pd.to_datetime(df_tracks.dates)\n",
    "years= df_tracks.dates.dt.year"
   ]
  },
  {
   "cell_type": "code",
   "execution_count": null,
   "id": "c8e3f894",
   "metadata": {},
   "outputs": [],
   "source": [
    "sns.displot(years,discrete=True,aspect=2,height=5, kind=\"hist\").set(title='No. of songs per year')"
   ]
  },
  {
   "cell_type": "code",
   "execution_count": null,
   "id": "a828bf71",
   "metadata": {},
   "outputs": [],
   "source": [
    "total_dr = df_tracks.duration\n",
    "fig_dims = (18,7)\n",
    "fig, ax = plt.subplots(figsize = fig_dims)\n",
    "fig = sns.barplot(x= years, y = total_dr, ax = ax, errwidth = False).set(title = \"Year vs Duration\")\n",
    "plt.xticks(rotation= 90)"
   ]
  },
  {
   "cell_type": "code",
   "execution_count": null,
   "id": "f9152639",
   "metadata": {},
   "outputs": [],
   "source": [
    "total_dr= df_tracks.duration\n",
    "sns.set_style(style=\"whitegrid\")\n",
    "fig_dims= (10,5)\n",
    "fig, ax = plt.subplots(figsize=fig_dims)\n",
    "fig= sns.lineplot(x= years, y=total_dr, ax=ax).set(title=\"Year vs Duration\")\n",
    "plt.xticks(rotation=60)"
   ]
  },
  {
   "cell_type": "code",
   "execution_count": null,
   "id": "6de47a96",
   "metadata": {},
   "outputs": [],
   "source": []
  }
 ],
 "metadata": {
  "kernelspec": {
   "display_name": "Python 3 (ipykernel)",
   "language": "python",
   "name": "python3"
  },
  "language_info": {
   "codemirror_mode": {
    "name": "ipython",
    "version": 3
   },
   "file_extension": ".py",
   "mimetype": "text/x-python",
   "name": "python",
   "nbconvert_exporter": "python",
   "pygments_lexer": "ipython3",
   "version": "3.10.5"
  }
 },
 "nbformat": 4,
 "nbformat_minor": 5
}
